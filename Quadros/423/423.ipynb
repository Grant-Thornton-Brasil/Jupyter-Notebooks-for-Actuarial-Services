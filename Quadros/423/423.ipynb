{
 "cells": [
  {
   "cell_type": "code",
   "execution_count": 1,
   "metadata": {
    "ExecuteTime": {
     "end_time": "2019-11-11T14:47:52.740306Z",
     "start_time": "2019-11-11T14:47:51.445004Z"
    }
   },
   "outputs": [],
   "source": [
    "from tqdm import tqdm\n",
    "from tkinter import Tk\n",
    "from tkinter import filedialog\n",
    "from pandas import DataFrame as DF\n",
    "from pycpfcnpj.cpf import validate as valicpf\n",
    "from ciso8601 import parse_datetime as to_datetime"
   ]
  },
  {
   "cell_type": "code",
   "execution_count": 2,
   "metadata": {
    "ExecuteTime": {
     "end_time": "2019-11-11T14:47:52.751259Z",
     "start_time": "2019-11-11T14:47:52.744263Z"
    }
   },
   "outputs": [],
   "source": [
    "def get_lines():\n",
    "    lines = []\n",
    "    root = Tk()\n",
    "    root.attributes(\"-topmost\", True)\n",
    "    root.withdraw()\n",
    "    for file in filedialog.askopenfilenames():\n",
    "        with open(file) as txt:\n",
    "            for n, line in enumerate(txt.readlines(), 1):\n",
    "                yield line"
   ]
  },
  {
   "cell_type": "code",
   "execution_count": 3,
   "metadata": {
    "ExecuteTime": {
     "end_time": "2019-11-11T14:47:56.742770Z",
     "start_time": "2019-11-11T14:47:52.758257Z"
    }
   },
   "outputs": [],
   "source": [
    "with open(\"423_Export.csv\", \"a+\") as csv:\n",
    "    headers = [\n",
    "        \"EMGSEQ\",\n",
    "        \"ENTCODIGO\",\n",
    "        \"MRFMESANO\",\n",
    "        \"QUAID\",\n",
    "        \"EMGCODGRUPO\",\n",
    "        \"RAMCODIGO\",\n",
    "        \"PLNCODIGO\",\n",
    "    ]\n",
    "    csv.write(\";\".join(headers) + \"\\n\")\n",
    "    for linha in get_lines():\n",
    "        linha = linha.strip()\n",
    "        if not (len(linha) == 0 \\\n",
    "            or linha == \"\" \\\n",
    "                or linha is None):\n",
    "            structure = [\n",
    "                linha[0:6],\n",
    "                linha[6:11],\n",
    "                linha[11:19],\n",
    "                linha[19:22],\n",
    "                linha[22:28],\n",
    "                linha[28:32],\n",
    "                linha[32:38],\n",
    "            ]\n",
    "            csv.write(\";\".join(structure) + \"\\n\")"
   ]
  },
  {
   "cell_type": "code",
   "execution_count": null,
   "metadata": {
    "ExecuteTime": {
     "end_time": "2019-11-05T17:21:04.679494Z",
     "start_time": "2019-11-05T17:21:04.536573Z"
    }
   },
   "outputs": [],
   "source": []
  },
  {
   "cell_type": "code",
   "execution_count": null,
   "metadata": {
    "ExecuteTime": {
     "end_time": "2019-11-05T17:21:09.505188Z",
     "start_time": "2019-11-05T17:21:04.682491Z"
    }
   },
   "outputs": [],
   "source": []
  },
  {
   "cell_type": "code",
   "execution_count": null,
   "metadata": {
    "ExecuteTime": {
     "end_time": "2019-11-05T17:21:09.544162Z",
     "start_time": "2019-11-05T17:21:09.509182Z"
    },
    "scrolled": true
   },
   "outputs": [],
   "source": []
  },
  {
   "cell_type": "code",
   "execution_count": null,
   "metadata": {
    "ExecuteTime": {
     "end_time": "2019-11-06T17:38:32.839434Z",
     "start_time": "2019-11-06T17:38:26.920912Z"
    }
   },
   "outputs": [],
   "source": []
  }
 ],
 "metadata": {
  "kernelspec": {
   "display_name": "Python 3",
   "language": "python",
   "name": "python3"
  },
  "language_info": {
   "codemirror_mode": {
    "name": "ipython",
    "version": 3
   },
   "file_extension": ".py",
   "mimetype": "text/x-python",
   "name": "python",
   "nbconvert_exporter": "python",
   "pygments_lexer": "ipython3",
   "version": "3.7.5"
  }
 },
 "nbformat": 4,
 "nbformat_minor": 2
}
