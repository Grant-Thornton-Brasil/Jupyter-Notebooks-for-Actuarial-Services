{
 "cells": [
  {
   "cell_type": "code",
   "execution_count": 1,
   "metadata": {
    "ExecuteTime": {
     "end_time": "2019-11-05T13:47:07.895570Z",
     "start_time": "2019-11-05T13:47:06.864118Z"
    }
   },
   "outputs": [],
   "source": [
    "from tqdm import tqdm\n",
    "from tkinter import Tk\n",
    "from tkinter import filedialog\n",
    "from pandas import DataFrame as DF\n",
    "from pycpfcnpj.cpf import validate as valicpf\n",
    "from ciso8601 import parse_datetime as to_datetime"
   ]
  },
  {
   "cell_type": "code",
   "execution_count": 2,
   "metadata": {
    "ExecuteTime": {
     "end_time": "2019-11-05T13:47:07.906568Z",
     "start_time": "2019-11-05T13:47:07.898572Z"
    }
   },
   "outputs": [],
   "source": [
    "def get_lines():\n",
    "    lines = []\n",
    "    root = Tk()\n",
    "    root.attributes(\"-topmost\", True)\n",
    "    root.withdraw()\n",
    "    for file in filedialog.askopenfilenames():\n",
    "        with open(file) as txt:\n",
    "            for n, line in enumerate(txt.readlines(), 1):\n",
    "                yield n, line"
   ]
  },
  {
   "cell_type": "markdown",
   "metadata": {
    "ExecuteTime": {
     "end_time": "2019-10-31T17:56:16.253312Z",
     "start_time": "2019-10-31T17:56:16.247298Z"
    }
   },
   "source": [
    "Regra |Descrição| Impeditiva\n",
    ":-------|:-----------|:-----------\n",
    "7395.1|Verifica se não há linhas em branco.|Sim\n",
    "7395.2|Verifica o tamanho padrão da linha (205 caracteres).|Sim\n",
    "7395.3|Verifica se o campo sequencial EBISEQ é uma sequência válida, que se inicia em 0000001.|Sim\n",
    "7395.4|Verifica se o campo ENTCODIGO corresponde à sociedade que está enviando o FIP/SUSEP.|Sim\n",
    "7395.5|Verifica se o campo MRFMESANO corresponde, respectivamente, ao ano, mês e último dia do mês de referência do FIP/SUSEP.|Sim\n",
    "7395.6|Verifica se o campo QUAID corresponde ao quadro 379.|Sim\n",
    "7395.7|Verifica se o campo TPMOID corresponde a um tipo de movimento valido|Sim\n",
    "7395.8|Verifica se o campo TPMOPREV corresponde a um tipo de movimento de previdência valido.|Sim\n",
    "7395.9| Verifica se o campo CMPID corresponde a um tipo de operação válida.|Sim\n",
    "7395.10|Verifica se o PLNCODIGO pertence ao Cadastro de Planos da entidade.|Sim\n",
    "7395.11|Verifica se o CPF do participante (EBICPFPART) e do beneficiário (EBICPFBENF) são inteiros e válidos, exceto para preenchimento com zeros.|Sim\n",
    "7395.12| Verifica se os campos EBIDATAINICIO, EBIDATAFIM, EBIDATAOCORR, EBIDATAREG e EBIDATACOMUNICA correspondem a uma data válida e se estão compreendidos entre os anos de 1901 e 2099.|Sim\n",
    "7395.13| Verifica se as datas relacionadas ao evento (EBIDATAOCORR, EBIDATAREG e EBIDATARCOMUNICA), para a combinação de TPMOID 0001 e TPMOPREV 0001, estão entre os limites de trinta anos para mais ou menos em relação ao mês de referência |Sim\n",
    "7395.14| Verifica se o campo EBIBENVEN é inteiro e maior ou igual a zero.|Sim\n",
    "7395.15|Verifica se os campos EBIVALORPBAC, EBIVALORPBC, EBIVALORMOV e EBIVALORMON são float.|Sim\n",
    "7395.18| Valida a correspondência entre os campos CMPID e TPMOID.|Sim\n"
   ]
  },
  {
   "cell_type": "code",
   "execution_count": 3,
   "metadata": {
    "ExecuteTime": {
     "end_time": "2019-11-05T13:47:17.024173Z",
     "start_time": "2019-11-05T13:47:07.912569Z"
    },
    "code_folding": []
   },
   "outputs": [
    {
     "name": "stdout",
     "output_type": "stream",
     "text": [
      "Digite o código da entidade: 04251\n"
     ]
    },
    {
     "name": "stderr",
     "output_type": "stream",
     "text": [
      "40105it [00:06, 6505.25it/s]\n"
     ]
    }
   ],
   "source": [
    "ENTCODIGO_input = input(\"Digite o código da entidade: \")\n",
    "CMPID_valid = [str(i) for i in range(1038, 1053)]\n",
    "date_i = to_datetime(\"19010101\")\n",
    "date_f = to_datetime(\"20991231\")\n",
    "\n",
    "index = [\"7395.1\", \"7395.2\", \"7395.3\", \"7395.4\",\n",
    "         \"7395.5\", \"7395.6\", \"7395.7\", \"7395.8\",\n",
    "         \"7395.9\", \"7395.10\", \"7395.11\", \"7395.12\",\n",
    "         \"7395.13\", \"7395.14\", \"7395.15\", \"7395.18\"]\n",
    "\n",
    "df_criticas = DF(index=index, columns=[\"Linhas afetadas\"])\n",
    "df_criticas.fillna(0.0, inplace=True)\n",
    "lines = 0\n",
    "\n",
    "for n, line in tqdm(get_lines()):\n",
    "    line = line.strip().replace(\",\", \".\")\n",
    "    EBISEQ = int(line[:7])\n",
    "    ENTCODIGO = line[7:12]\n",
    "    MRFMESANO = line[12:20]\n",
    "    QUAID = line[20:23]\n",
    "    TPMOID = line[23:27]\n",
    "    TPMOPREV = line[27:31]\n",
    "    CMPID = line[31:35]\n",
    "    PLNCODIGO = line[35:41]\n",
    "    EBICPFPART = line[62:73]\n",
    "    EBICPFBENF = line[73:84]\n",
    "    EBIDATAINICIO = line[84:92]\n",
    "    EBIDATAFIM = line[92:100]\n",
    "    EBIDATAOCORR = line[100:108]\n",
    "    EBIDATAREG = line[108:116]\n",
    "    EBIDATACOMUNICA = line[116:124]\n",
    "    EBIBENVEN = line[124:128]\n",
    "    EBIVALORPBAC = line[128:141]\n",
    "    EBIVALORPBC = line[141:154]\n",
    "    EBIVALORMOV = line[154:167]\n",
    "    EBIVALORMON = line[167:180]\n",
    "\n",
    "    # 7395.1 -> Verifica se não há linhas em branco.\n",
    "    if line == \"\" or line == None:\n",
    "        df_criticas.loc[\"7395.1\", \"Linhas afetadas\"] += 1\n",
    "    # 7395.2 -> Verifica o tamanho padrão da linha (205 caracteres).\n",
    "    if len(line) != 205:\n",
    "        df_criticas.loc[\"7395.2\", \"Linhas afetadas\"] += 1\n",
    "    # 7395.3 -> Verifica se o campo sequencial EBISEQ é uma sequência\n",
    "    # válida, que se inicia em 0000001.\n",
    "    if EBISEQ != n:\n",
    "        df_criticas.loc[\"7395.3\", \"Linhas afetadas\"] += 1\n",
    "    # 7395.4 -> Verifica se o campo ENTCODIGO corresponde à sociedade\n",
    "    # que está enviando o FIP/SUSEP.\n",
    "    if ENTCODIGO_input != ENTCODIGO:\n",
    "        df_criticas.loc[\"7395.4\", \"Linhas afetadas\"] += 1\n",
    "    # 7395.5 -> Verifica se o campo MRFMESANO corresponde,\n",
    "    # respectivamente, ao ano, mês e último dia do mês de referência\n",
    "    # do FIP/SUSEP.\n",
    "    try:\n",
    "        if MRFMESANO[-2:].strip() not in [\"28\", \"30\", \"31\"]:\n",
    "            df_criticas.loc[\"7395.5\", \"Linhas afetadas\"] += 1                  \n",
    "    except:\n",
    "        df_criticas.loc[\"7395.5\", \"Linhas afetadas\"] += 1        \n",
    "    # 7395.6 -> Verifica se o campo QUAID corresponde ao quadro 379.\n",
    "    if QUAID != \"379\":\n",
    "        df_criticas.loc[\"7395.6\", \"Linhas afetadas\"] += 1\n",
    "    # 7395.7 -> Verifica se o campo TPMOID corresponde a um tipo de\n",
    "    # movimento valido\n",
    "    if TPMOID not in [\"0001\", \"0002\", \"0003\",\n",
    "                      \"0004\", \"0005\", \"0006\", \"0014\"]:\n",
    "        df_criticas.loc[\"7395.7\", \"Linhas afetadas\"] += 1\n",
    "    # 7395.8 -> Verifica se o campo TPMOPREV corresponde a um tipo de\n",
    "    # movimento de previdência valido.\n",
    "    if TPMOPREV not in [\"0001\", \"0002\", \"0003\"]:\n",
    "        df_criticas.loc[\"7395.8\", \"Linhas afetadas\"] += 1\n",
    "    # 7395.9 -> Verifica se o campo CMPID corresponde a um tipo\n",
    "    # de operação válida.\n",
    "    if CMPID not in CMPID_valid:\n",
    "        df_criticas.loc[\"7395.9\", \"Linhas afetadas\"] += 1\n",
    "    # 7395.10 -> Verifica se o PLNCODIGO pertence ao Cadastro de\n",
    "    # Planos da entidade.\n",
    "    pass\n",
    "    # 7395.11 -> Verifica se o CPF do participante (EBICPFPART)\n",
    "    # e do beneficiário (EBICPFBENF) são inteiros e válidos,\n",
    "    # exceto para preenchimento com zeros.\n",
    "    if not (valicpf(EBICPFPART) == valicpf(EBICPFBENF)):\n",
    "        df_criticas.loc[\"7395.11\", \"Linhas afetadas\"] += 1\n",
    "    \"\"\"\n",
    "        HÁ CPFs COM O VALOR 11111111111.\n",
    "        O QUE FAZER? É VÁLIDO OU INVÁLIDO?\n",
    "    \"\"\"\n",
    "    # 7395.12 Verifica se os campos EBIDATAINICIO, EBIDATAFIM,\n",
    "    # EBIDATAOCORR, EBIDATAREG e EBIDATACOMUNICA correspondem a uma\n",
    "    # data válida e se estão compreendidos entre os anos de 1901 e 2099.\n",
    "    try:\n",
    "        tests = [date_i <= to_datetime(EBIDATAINICIO) <= date_f,\n",
    "                 date_i <= to_datetime(EBIDATAFIM) <= date_f,\n",
    "                 date_i <= to_datetime(EBIDATAOCORR) <= date_f,\n",
    "                 date_i <= to_datetime(EBIDATAREG) <= date_f,\n",
    "                 date_i <= to_datetime(EBIDATACOMUNICA) <= date_f]\n",
    "        if not all(tests):\n",
    "            df_criticas.loc[\"7395.12\", \"Linhas afetadas\"] += 1\n",
    "    except:\n",
    "        df_criticas.loc[\"7395.12\", \"Linhas afetadas\"] += 1\n",
    "    # 7395.13 -> Verifica se as datas relacionadas ao evento (EBIDATAOCORR,\n",
    "    # EBIDATAREG e EBIDATARCOMUNICA), para a combinação de TPMOID 0001 e\n",
    "    # TPMOPREV 0001, estão entre os limites de trinta anos para mais ou\n",
    "    # menos em relação ao mês de referência\n",
    "    pass\n",
    "    # 7395.14 -> Verifica se o campo EBIBENVEN\n",
    "    # é inteiro e maior ou igual a zero.\n",
    "    try:\n",
    "        if not int(EBIBENVEN) >= 0:\n",
    "            df_criticas.loc[\"7395.14\", \"Linhas afetadas\"] += 1\n",
    "    except:\n",
    "        df_criticas.loc[\"7395.14\", \"Linhas afetadas\"] += 1\n",
    "    # 7395.15 -> Verifica se os campos EBIVALORPBAC, EBIVALORPBC,\n",
    "    # EBIVALORMOV e EBIVALORMON são float.\n",
    "    try:\n",
    "        float(EBIVALORPBAC)\n",
    "        float(EBIVALORPBC)\n",
    "        float(EBIVALORMOV)\n",
    "        float(EBIVALORMON)\n",
    "    except:\n",
    "        df_criticas.loc[\"7395.15\", \"Linhas afetadas\"] += 1\n",
    "    # 7395.18 -> Valida a correspondência entre os campos CMPID e TPMOID.\n",
    "    if TPMOID == \"0014\" and CMPID not in [\"1049\", \"1052\"]:\n",
    "        df_criticas.loc[\"7395.18\", \"Linhas afetadas\"] += 1\n",
    "\n",
    "    lines += 1"
   ]
  },
  {
   "cell_type": "code",
   "execution_count": 4,
   "metadata": {
    "ExecuteTime": {
     "end_time": "2019-11-05T13:47:17.057153Z",
     "start_time": "2019-11-05T13:47:17.027171Z"
    }
   },
   "outputs": [
    {
     "data": {
      "text/html": [
       "<div>\n",
       "<style scoped>\n",
       "    .dataframe tbody tr th:only-of-type {\n",
       "        vertical-align: middle;\n",
       "    }\n",
       "\n",
       "    .dataframe tbody tr th {\n",
       "        vertical-align: top;\n",
       "    }\n",
       "\n",
       "    .dataframe thead th {\n",
       "        text-align: right;\n",
       "    }\n",
       "</style>\n",
       "<table border=\"1\" class=\"dataframe\">\n",
       "  <thead>\n",
       "    <tr style=\"text-align: right;\">\n",
       "      <th></th>\n",
       "      <th>Linhas afetadas</th>\n",
       "      <th>Linhas Analizadas</th>\n",
       "    </tr>\n",
       "  </thead>\n",
       "  <tbody>\n",
       "    <tr>\n",
       "      <th>7395.1</th>\n",
       "      <td>0.0</td>\n",
       "      <td>40105</td>\n",
       "    </tr>\n",
       "    <tr>\n",
       "      <th>7395.2</th>\n",
       "      <td>0.0</td>\n",
       "      <td>40105</td>\n",
       "    </tr>\n",
       "    <tr>\n",
       "      <th>7395.3</th>\n",
       "      <td>0.0</td>\n",
       "      <td>40105</td>\n",
       "    </tr>\n",
       "    <tr>\n",
       "      <th>7395.4</th>\n",
       "      <td>0.0</td>\n",
       "      <td>40105</td>\n",
       "    </tr>\n",
       "    <tr>\n",
       "      <th>7395.5</th>\n",
       "      <td>0.0</td>\n",
       "      <td>40105</td>\n",
       "    </tr>\n",
       "    <tr>\n",
       "      <th>7395.6</th>\n",
       "      <td>0.0</td>\n",
       "      <td>40105</td>\n",
       "    </tr>\n",
       "    <tr>\n",
       "      <th>7395.7</th>\n",
       "      <td>0.0</td>\n",
       "      <td>40105</td>\n",
       "    </tr>\n",
       "    <tr>\n",
       "      <th>7395.8</th>\n",
       "      <td>0.0</td>\n",
       "      <td>40105</td>\n",
       "    </tr>\n",
       "    <tr>\n",
       "      <th>7395.9</th>\n",
       "      <td>0.0</td>\n",
       "      <td>40105</td>\n",
       "    </tr>\n",
       "    <tr>\n",
       "      <th>7395.10</th>\n",
       "      <td>0.0</td>\n",
       "      <td>40105</td>\n",
       "    </tr>\n",
       "    <tr>\n",
       "      <th>7395.11</th>\n",
       "      <td>28.0</td>\n",
       "      <td>40105</td>\n",
       "    </tr>\n",
       "    <tr>\n",
       "      <th>7395.12</th>\n",
       "      <td>0.0</td>\n",
       "      <td>40105</td>\n",
       "    </tr>\n",
       "    <tr>\n",
       "      <th>7395.13</th>\n",
       "      <td>0.0</td>\n",
       "      <td>40105</td>\n",
       "    </tr>\n",
       "    <tr>\n",
       "      <th>7395.14</th>\n",
       "      <td>0.0</td>\n",
       "      <td>40105</td>\n",
       "    </tr>\n",
       "    <tr>\n",
       "      <th>7395.15</th>\n",
       "      <td>0.0</td>\n",
       "      <td>40105</td>\n",
       "    </tr>\n",
       "    <tr>\n",
       "      <th>7395.18</th>\n",
       "      <td>0.0</td>\n",
       "      <td>40105</td>\n",
       "    </tr>\n",
       "  </tbody>\n",
       "</table>\n",
       "</div>"
      ],
      "text/plain": [
       "         Linhas afetadas  Linhas Analizadas\n",
       "7395.1               0.0              40105\n",
       "7395.2               0.0              40105\n",
       "7395.3               0.0              40105\n",
       "7395.4               0.0              40105\n",
       "7395.5               0.0              40105\n",
       "7395.6               0.0              40105\n",
       "7395.7               0.0              40105\n",
       "7395.8               0.0              40105\n",
       "7395.9               0.0              40105\n",
       "7395.10              0.0              40105\n",
       "7395.11             28.0              40105\n",
       "7395.12              0.0              40105\n",
       "7395.13              0.0              40105\n",
       "7395.14              0.0              40105\n",
       "7395.15              0.0              40105\n",
       "7395.18              0.0              40105"
      ]
     },
     "execution_count": 4,
     "metadata": {},
     "output_type": "execute_result"
    }
   ],
   "source": [
    "df_criticas[\"Linhas Analizadas\"] = lines\n",
    "df_criticas"
   ]
  },
  {
   "cell_type": "code",
   "execution_count": 5,
   "metadata": {
    "ExecuteTime": {
     "end_time": "2019-11-05T13:47:17.918144Z",
     "start_time": "2019-11-05T13:47:17.060154Z"
    }
   },
   "outputs": [],
   "source": [
    "df_criticas.to_excel(\"379.xlsx\",sheet_name=\"Críticas 379\")"
   ]
  },
  {
   "cell_type": "code",
   "execution_count": null,
   "metadata": {
    "ExecuteTime": {
     "end_time": "2019-10-31T19:53:22.965649Z",
     "start_time": "2019-10-31T19:53:22.958654Z"
    }
   },
   "outputs": [],
   "source": []
  }
 ],
 "metadata": {
  "kernelspec": {
   "display_name": "Python 3",
   "language": "python",
   "name": "python3"
  },
  "language_info": {
   "codemirror_mode": {
    "name": "ipython",
    "version": 3
   },
   "file_extension": ".py",
   "mimetype": "text/x-python",
   "name": "python",
   "nbconvert_exporter": "python",
   "pygments_lexer": "ipython3",
   "version": "3.7.5"
  }
 },
 "nbformat": 4,
 "nbformat_minor": 2
}
