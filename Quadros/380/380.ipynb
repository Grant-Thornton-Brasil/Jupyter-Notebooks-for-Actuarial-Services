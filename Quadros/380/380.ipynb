{
 "cells": [
  {
   "cell_type": "code",
   "execution_count": 4,
   "metadata": {
    "ExecuteTime": {
     "end_time": "2019-11-08T18:37:08.478222Z",
     "start_time": "2019-11-08T18:37:08.473225Z"
    }
   },
   "outputs": [],
   "source": [
    "from tqdm.notebook import tqdm\n",
    "from tkinter import Tk\n",
    "from tkinter import filedialog\n",
    "from pandas import DataFrame as DF\n",
    "from pycpfcnpj.cpf import validate as valicpf\n",
    "from ciso8601 import parse_datetime as to_datetime"
   ]
  },
  {
   "cell_type": "code",
   "execution_count": 5,
   "metadata": {
    "ExecuteTime": {
     "end_time": "2019-11-08T18:37:09.863670Z",
     "start_time": "2019-11-08T18:37:09.855695Z"
    }
   },
   "outputs": [],
   "source": [
    "def get_lines():\n",
    "    lines = []\n",
    "    root = Tk()\n",
    "    root.attributes(\"-topmost\", True)\n",
    "    root.withdraw()\n",
    "    for file in filedialog.askopenfilenames():\n",
    "        with open(file) as txt:\n",
    "            for n, line in enumerate(txt.readlines(), 1):\n",
    "                yield n, line"
   ]
  },
  {
   "cell_type": "markdown",
   "metadata": {
    "ExecuteTime": {
     "end_time": "2019-10-31T17:56:16.253312Z",
     "start_time": "2019-10-31T17:56:16.247298Z"
    }
   },
   "source": [
    "Campo| Posição Inicial| Tamanho |Formato |Índice|Descrição\n",
    ":-------|:-------|:-------|:-------|:-------|:-------\n",
    "EBRSEQ |1|7|nnnnnnn|line[0:7]|Número da linha do arquivo.\n",
    "ENTCODIGO |8|5|nnnnn|line[7:12]|Código da sociedade seguradora/entidade na SUSEP.\n",
    "MRFMESANO |13|8|aaaammdd|line[12:20]|Ano, mês e último dia do mês de referência do FIP/SUSEP.\n",
    "QUAID|21|3|nnn|line[20:23]|Código do quadro (Quaid: 380). [Tabela ‘Quadros’ do FIPSUSEP]\n",
    "CMPID |24|4|nnnn|line[23:27]|Código do tipo de evento. [Tabela “Bib_DefCampos” do FIP/SUSEP]\n",
    "PLNCODIGO |28|6|nnnnnn|line[27:33]|Código do plano. [Tabela Planos do FIP]\n",
    "EBRNUMPROP |34|21|nnnnnnnnnnnnnnnnnnnnn|line[33:54]|Número da proposta.\n",
    "EBRCPFPART|55|11|nnnnnnnnnnn|line[54:65]|CPF do participante/segurado do plano.\n",
    "EBRCPFBENF |66|11|nnnnnnnnnnn|line[65:76]|CPF do beneficiário.\n",
    "EBRDATAINICIO|77|8|aaaammdd|line[76:84]|Data de início de vigência do risco.\n",
    "EBRDATAFIM |85|8|aaaammdd|line[84:92]|Data de fim de vigência do risco.\n",
    "EBRDATAOCORR|93|8|aaaammdd |line[92:100]|Data de ocorrência do evento.\n",
    "EBRDATAREG |101|8|aaaammdd |line[100:108]|Data em que a entidade/seguradora efetuou o registro do evento pendente de pagamento\n",
    "EBRVALORMOV |109|13|nnnnnnnnnn,nn|line[108:121]|Valor monetário do evento conforme registro na PSL ou valor do depósito judicial usado como dedutor da necessidade de cobertura, de acordo com o campo CMPID.\n",
    "EBRCODCESS |122|5|nnnnn|line[121:126]|Código SUSEP da sociedade seguradora que efetuou a cessão (cosseguro aceito), ou da seguradora ou resseguradora que aceitou o risco (cosseguro cedido ou resseguro).\n",
    "EBRNUMSIN |127|20|nnnnnnnnnnnnnnnnnnnn|line[126:146]|Código do evento.\n",
    "\n",
    "\n",
    "Regra |Descrição| Impeditiva\n",
    ":-------|:-----------|:-----------\n",
    "7396.1|Verifica se não há linhas em branco.|Sim\n",
    "7396.2|Verifica o tamanho padrão da linha (146 caracteres).|Sim\n",
    "7396.3|Verifica se o campo sequencial EBRSEQ é uma sequência válida, que se inicia em 0000001.|Sim\n",
    "7396.4 |Verifica se o campo ENTCODIGO corresponde à sociedade que está enviando o FIP/SUSEP.|Sim\n",
    "7396.5|Verifica se o campo MRFMESANO corresponde, respectivamente, ao ano, mês e último dia do mês de referência do FIP/SUSEP.|Sim\n",
    "7396.6|Verifica se o campo QUAID corresponde ao quadro 380.|Sim\n",
    "7396.7|Verifica se o campo CMPID corresponde a um tipo de operação válida (conforme tabela “Bib_DefCampos”).|Sim\n",
    "7396.8|Verifica se o PLNCODIGO pertence ao Cadastro de Planos da entidade.|Sim\n",
    "7396.9|Verifica se o CPF do participante (EBRCPFPART) e do beneficiário (EBRCPFBENF) são inteiros e válidos, exceto para preenchimento com zeros.|Sim\n",
    "7396.10|Verifica se os campos EBRDATAINICIO, EBRDATAFIM, EBRDATAOCORR e EBRDATAREG correspondem a uma data válida e se estão compreendidos entre os anos de 1901 e 2099.|Sim\n",
    "7396.11|Verifica se o campo EBRVALORMOV é float.|Sim"
   ]
  },
  {
   "cell_type": "code",
   "execution_count": null,
   "metadata": {
    "ExecuteTime": {
     "end_time": "2019-11-05T13:51:56.446143Z",
     "start_time": "2019-11-05T13:51:45.403371Z"
    },
    "code_folding": []
   },
   "outputs": [],
   "source": [
    "ENTCODIGO_input = input(\"Digite o código da entidade: \")\n",
    "CMPID_valid = [str(i) for i in range(1053, 1064)]\n",
    "date_i = to_datetime(\"19010101\")\n",
    "date_f = to_datetime(\"20991231\")\n",
    "\n",
    "index = [\"7396.1\", \"7396.2\", \"7396.3\",\n",
    "         \"7396.4\", \"7396.5\", \"7396.6\",\n",
    "         \"7396.7\", \"7396.8\", \"7396.9\",\n",
    "         \"7396.10\", \"7396.11\"]\n",
    "\n",
    "df_criticas = DF(index=index, columns=[\"Linhas afetadas\"])\n",
    "df_criticas.fillna(0.0, inplace=True)\n",
    "lines = 0\n",
    "\n",
    "for n, line in tqdm(get_lines()):\n",
    "    line = line.strip().replace(\",\", \".\")\n",
    "    EBRSEQ = int(line[0:7])\n",
    "    ENTCODIGO = line[7:12]\n",
    "    MRFMESANO = line[12:20]\n",
    "    QUAID = line[20:23]\n",
    "    CMPID = line[23:27]\n",
    "    PLNCODIGO = line[27:33]\n",
    "    EBRCPFPART = line[54:65]\n",
    "    EBRDATAINICIO = line[76:84]\n",
    "    EBRVALORMOV = line[108:121]\n",
    "    EBRCPFBENF = line[65:76]\n",
    "    EBRDATAFIM = line[84:92]\n",
    "    EBRDATAOCORR = line[92:100]\n",
    "    EBRDATAREG = line[100:108]\n",
    "\n",
    "    # 7396.1 -> Verifica se não há linhas em branco.\n",
    "    if line == \"\" or line == None:\n",
    "        df_criticas.loc[\"7396.1\", \"Linhas afetadas\"] += 1\n",
    "    # 7396.2 -> Verifica o tamanho padrão da linha (146 caracteres).\n",
    "    if len(line) != 146:\n",
    "        df_criticas.loc[\"7396.2\", \"Linhas afetadas\"] += 1\n",
    "    # 7396.3 -> Verifica se o campo sequencial EBRSEQ é uma sequência\n",
    "    # válida, que se inicia em 0000001.\n",
    "    if n != EBRSEQ:\n",
    "        df_criticas.loc[\"7396.3\", \"Linhas afetadas\"] += 1\n",
    "    # 7396.4 -> Verifica se o campo ENTCODIGO corresponde à sociedade\n",
    "    # que está enviando o FIP/SUSEP.\n",
    "    if ENTCODIGO_input != ENTCODIGO:\n",
    "        df_criticas.loc[\"7396.4\", \"Linhas afetadas\"] += 1\n",
    "    # 7396.5 -> Verifica se o campo MRFMESANO corresponde, respectivamente,\n",
    "    # ao ano, mês e último dia do mês de referência do FIP/SUSEP.\n",
    "    try:\n",
    "        if MRFMESANO[-2:].strip() not in [\"28\", \"30\", \"31\"]:\n",
    "            df_criticas.loc[\"7396.5\", \"Linhas afetadas\"] += 1                  \n",
    "    except:\n",
    "        df_criticas.loc[\"7396.5\", \"Linhas afetadas\"] += 1        \n",
    "    # 7396.6 -> Verifica se o campo QUAID corresponde ao quadro 380.\n",
    "    if QUAID != \"380\":\n",
    "        df_criticas.loc[\"7396.6\", \"Linhas afetadas\"] += 1\n",
    "    # 7396.7 -> Verifica se o campo CMPID corresponde a um tipo de operação\n",
    "    # válida (conforme tabela “Bib_DefCampos”).\n",
    "    if ENTCODIGO_input != ENTCODIGO:\n",
    "        df_criticas.loc[\"7396.7\", \"Linhas afetadas\"] += 1\n",
    "    # 7396.8 -> Verifica se o PLNCODIGO pertence\n",
    "    # ao Cadastro de Planos da entidade.\n",
    "    pass\n",
    "    # 7396.9 -> Verifica se o CPF do participante (EBRCPFPART)\n",
    "    # e do beneficiário (EBRCPFBENF) são inteiros e válidos,\n",
    "    # exceto para preenchimento com zeros.\n",
    "    if not (valicpf(EBRCPFPART) == valicpf(EBRCPFBENF)):\n",
    "        df_criticas.loc[\"7396.9\", \"Linhas afetadas\"] += 1\n",
    "    \"\"\"\n",
    "    HÁ CPFs COM O VALOR 11111111111.\n",
    "    O QUE FAZER? É VÁLIDO OU INVÁLIDO?\n",
    "    \"\"\"\n",
    "    # 7396.10 -> Verifica se os campos EBRDATAINICIO, EBRDATAFIM,\n",
    "    # EBRDATAOCORR e EBRDATAREG correspondem a uma data válida\n",
    "    # e se estão compreendidos entre os anos de 1901 e 2099.\n",
    "    try:\n",
    "        tests = [date_i <= to_datetime(EBRDATAINICIO) <= date_f,\n",
    "                 date_i <= to_datetime(EBRDATAFIM) <= date_f,\n",
    "                 date_i <= to_datetime(EBRDATAOCORR) <= date_f,\n",
    "                 date_i <= to_datetime(EBRDATAREG) <= date_f]\n",
    "        if not all(tests):\n",
    "            df_criticas.loc[\"7396.10\", \"Linhas afetadas\"] += 1\n",
    "    except:\n",
    "        df_criticas.loc[\"7396.10\", \"Linhas afetadas\"] += 1\n",
    "    # 7396.11 -> Verifica se o campo EBRVALORMOV é float.\n",
    "    try:\n",
    "        float(EBRVALORMOV)\n",
    "    except:\n",
    "        df_criticas.loc[\"7396.11\", \"Linhas afetadas\"] += 1\n",
    "\n",
    "    lines += 1"
   ]
  },
  {
   "cell_type": "code",
   "execution_count": null,
   "metadata": {
    "ExecuteTime": {
     "end_time": "2019-11-05T13:51:56.477127Z",
     "start_time": "2019-11-05T13:51:56.449142Z"
    }
   },
   "outputs": [],
   "source": [
    "df_criticas[\"Linhas Analizadas\"] = lines\n",
    "df_criticas"
   ]
  },
  {
   "cell_type": "code",
   "execution_count": null,
   "metadata": {
    "ExecuteTime": {
     "end_time": "2019-11-05T13:51:57.426351Z",
     "start_time": "2019-11-05T13:51:56.481124Z"
    }
   },
   "outputs": [],
   "source": [
    "df_criticas.to_excel(\"380.xlsx\", sheet_name=\"Críticas 390\")"
   ]
  },
  {
   "cell_type": "code",
   "execution_count": 8,
   "metadata": {
    "ExecuteTime": {
     "end_time": "2019-11-08T18:38:01.474326Z",
     "start_time": "2019-11-08T18:37:50.327714Z"
    }
   },
   "outputs": [
    {
     "data": {
      "application/vnd.jupyter.widget-view+json": {
       "model_id": "46ee9880a1144db4a89e8111c3cbe9c8",
       "version_major": 2,
       "version_minor": 0
      },
      "text/plain": [
       "HBox(children=(IntProgress(value=1, bar_style='info', max=1), HTML(value='')))"
      ]
     },
     "metadata": {},
     "output_type": "display_data"
    },
    {
     "name": "stdout",
     "output_type": "stream",
     "text": [
      "\n"
     ]
    }
   ],
   "source": [
    "with open(\"380_Export.csv\", \"a+\") as csv:\n",
    "    header = [\n",
    "        \"EBRSEQ\",\n",
    "        \"ENTCODIGO\",\n",
    "        \"MRFMESANO\",\n",
    "        \"QUAID\",\n",
    "        \"CMPID\",\n",
    "        \"PLNCODIGO\",\n",
    "        \"EBRNUMPROP\",\n",
    "        \"EBRCPFPART\",\n",
    "        \"EBRCPFBENF\",\n",
    "        \"EBRDATAINICIO\",\n",
    "        \"EBRDATAFIM\",\n",
    "        \"EBRDATAOCORR\",\n",
    "        \"EBRDATAREG\",\n",
    "        \"EBRVALORMOV\",\n",
    "        \"EBRCODCESS\",\n",
    "        \"EBRNUMSIN\"]\n",
    "    csv.write(\";\".join(header)+\"\\n\")\n",
    "    \n",
    "with open(\"380_Export.csv\", \"a+\") as csv:\n",
    "    for n, line in tqdm(get_lines()):\n",
    "        line = line.strip().replace(\".\", \",\")\n",
    "        if not (line == \"\" or line == None):\n",
    "            data = [\n",
    "                line[0:7],\n",
    "                line[7:12],\n",
    "                line[12:20],\n",
    "                line[20:23],\n",
    "                line[23:27],\n",
    "                line[27:33],\n",
    "                line[33:54],\n",
    "                line[54:65],\n",
    "                line[65:76],\n",
    "                line[76:84],\n",
    "                line[84:92],\n",
    "                line[92:100],\n",
    "                line[100:108],\n",
    "                line[108:121],\n",
    "                line[121:126],\n",
    "                line[126:146],\n",
    "            ]\n",
    "\n",
    "            csv.write(\";\".join(data)+\"\\n\")"
   ]
  }
 ],
 "metadata": {
  "kernelspec": {
   "display_name": "Python 3",
   "language": "python",
   "name": "python3"
  },
  "language_info": {
   "codemirror_mode": {
    "name": "ipython",
    "version": 3
   },
   "file_extension": ".py",
   "mimetype": "text/x-python",
   "name": "python",
   "nbconvert_exporter": "python",
   "pygments_lexer": "ipython3",
   "version": "3.7.5"
  }
 },
 "nbformat": 4,
 "nbformat_minor": 2
}
