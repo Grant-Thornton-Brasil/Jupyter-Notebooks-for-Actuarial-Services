{
 "cells": [
  {
   "cell_type": "code",
   "execution_count": 2,
   "metadata": {
    "ExecuteTime": {
     "end_time": "2019-11-06T17:37:09.222770Z",
     "start_time": "2019-11-06T17:37:07.612650Z"
    }
   },
   "outputs": [],
   "source": [
    "from tqdm import tqdm\n",
    "from tkinter import Tk\n",
    "from tkinter import filedialog\n",
    "from pandas import DataFrame as DF\n",
    "from pycpfcnpj.cpf import validate as valicpf\n",
    "from ciso8601 import parse_datetime as to_datetime"
   ]
  },
  {
   "cell_type": "code",
   "execution_count": 3,
   "metadata": {
    "ExecuteTime": {
     "end_time": "2019-11-06T17:37:09.235768Z",
     "start_time": "2019-11-06T17:37:09.225773Z"
    }
   },
   "outputs": [],
   "source": [
    "def get_lines():\n",
    "    lines = []\n",
    "    root = Tk()\n",
    "    root.attributes(\"-topmost\", True)\n",
    "    root.withdraw()\n",
    "    for file in filedialog.askopenfilenames():\n",
    "        with open(file) as txt:\n",
    "            for n, line in enumerate(txt.readlines(), 1):\n",
    "                yield n, line"
   ]
  },
  {
   "cell_type": "markdown",
   "metadata": {
    "ExecuteTime": {
     "end_time": "2019-10-31T17:56:16.253312Z",
     "start_time": "2019-10-31T17:56:16.247298Z"
    }
   },
   "source": [
    "Regra| Descrição| Impeditiva\n",
    ":------|:-----------|:-----------\n",
    "7398.1| Verifica se não há linhas em branco| Sim\n",
    "7398.2| Verifica o tamanho padrão da linha (188 caracteres) |Sim\n",
    "7398.3| Verifica se o campo sequencial ESCSEQ é uma sequência válida, que se inicia em 0000001 |Sim\n",
    "7398.4| Verifica se o campo ENTCODIGO corresponde à sociedade que está enviando o FIP/SUSEP |Sim\n",
    "7398.5| Verifica se o campo MRFMESANO corresponde, respectivamente, ao ano, mês e último dia do mês de referência do FIP/SUSEP |Sim\n",
    "7398.6| Verifica se o campo QUAID corresponde ao quadro 382 |Sim\n",
    "7398.7| Verifica se o código do tipo de movimento é valido (conforme tabela ‘Tipos Movimentos’ do FIPSUSEP)| Sim\n",
    "7398.8| Verifica se o campo CMPID corresponde a um tipo de operação válida (conforme tabela ‘Bib_DefCamposEstatisticos’ do FIPSUSEP)|Sim\n",
    "7398.9| Verifica se o PLNCODIGO pertence à tabela ‘Planos’ da entidade. |Sim\n",
    "7398.10| Verifica se os campos ESCVALORMOVRO, ESCVALORMOVRD, ESCIMPSEG, ESCVALORCARO, ESCVALORCARD, ESCVALORCIRO e ESCVALORCIRD são float. |Sim\n",
    "7398.13| Valida a correspondência entre os campos TPMOID e CMPID |Sim"
   ]
  },
  {
   "cell_type": "code",
   "execution_count": 3,
   "metadata": {
    "ExecuteTime": {
     "end_time": "2019-11-05T17:21:04.679494Z",
     "start_time": "2019-11-05T17:21:04.536573Z"
    }
   },
   "outputs": [],
   "source": [
    "index = [\"7398.\"+str(i) for i in range(1,11)]\n",
    "index.append(\"7398.13\")\n",
    "df_criticas = DF(index=index, columns=[\"Linhas afetadas\"])\n",
    "df_criticas.fillna(0, inplace=True)"
   ]
  },
  {
   "cell_type": "code",
   "execution_count": 4,
   "metadata": {
    "ExecuteTime": {
     "end_time": "2019-11-05T17:21:09.505188Z",
     "start_time": "2019-11-05T17:21:04.682491Z"
    }
   },
   "outputs": [
    {
     "name": "stdout",
     "output_type": "stream",
     "text": [
      "Digite o código da entidade: 04251\n"
     ]
    },
    {
     "name": "stderr",
     "output_type": "stream",
     "text": [
      "8112it [00:02, 3479.06it/s]\n"
     ]
    }
   ],
   "source": [
    "CMPID_valid = [str(i) for i in range(1065,1077)]\n",
    "ENTCODIGO_input = input(\"Digite o código da entidade: \")\n",
    "\n",
    "lines = 0\n",
    "\n",
    "for n, line in tqdm(get_lines()):\n",
    "    line = line.strip().replace(\",\",\".\")\n",
    "    ESCSEQ  = line[0:7]\n",
    "    ENTCODIGO  = line[7:12]\n",
    "    MRFMESANO  = line[12:20]\n",
    "    QUAID = line[20:23]\n",
    "    TPMOID = line[23:27]\n",
    "    CMPID = line[27:31]\n",
    "    PLNCODIGO = line[31:37]\n",
    "    ESCDATAINICIORO = line[37:45]\n",
    "    ESCDATAFIMRO  = line[45:53]\n",
    "    ESCDATAEMISSRO = line[53:61]\n",
    "    ESCVALORMOVRO  = line[61:74]\n",
    "    ESCDATAINICIORD  = line[74:82]\n",
    "    ESCDATAFIMRD  = line[82:90]\n",
    "    ESCDATAEMISSRD  = line[90:98]\n",
    "    ESCVALORMOVRD  = line[98:111]\n",
    "    ESCIMPSEG  = line[111:127]\n",
    "    ESCCODCESS = line[127:132]\n",
    "    ESCFREQ  = line[132:136]\n",
    "    ESCVALORCARO = line[136:149]\n",
    "    ESCVALORCARD = line[149:162]\n",
    "    ESCVALORCIRO  = line[162:175]\n",
    "    ESCVALORCIRD  = line[175:188]\n",
    "    # 7398.1 -> Verifica se não há linhas em branco.\n",
    "    if line == \"\" or line == None:\n",
    "        df_criticas.loc[\"7398.1\", \"Linhas afetadas\"] += 1\n",
    "    # 7398.2 -> Verifica o tamanho padrão da linha \n",
    "    # (188 caracteres).\n",
    "    if len(line) != 188:\n",
    "        df_criticas.loc[\"7398.1\", \"Linhas afetadas\"] += 1\n",
    "    # 7398.3 -> Verifica se o campo sequencial ESCSEQ \n",
    "    # é uma sequência válida, que se inicia em 0000001.\n",
    "    if n != int(ESCSEQ):\n",
    "        df_criticas.loc[\"7398.3\", \"Linhas afetadas\"] += 1\n",
    "    # 7398.4 -> Verifica se o campo ENTCODIGO corresponde\n",
    "    # à sociedade que está enviando o FIP/SUSEP.\n",
    "    if ENTCODIGO != ENTCODIGO_input:\n",
    "        df_criticas.loc[\"7398.4\", \"Linhas afetadas\"] += 1\n",
    "    # 7398.5 -> Verifica se o campo MRFMESANO corresponde, \n",
    "    # respectivamente, ao ano, mês e último dia do mês de \n",
    "    # referência do FIP/SUSEP.\n",
    "    try:\n",
    "        if MRFMESANO[-2:].strip() not in [\"28\", \"30\", \"31\"]:\n",
    "            df_criticas.loc[\"7398.5\", \"Linhas afetadas\"] += 1                  \n",
    "    except:\n",
    "        df_criticas.loc[\"7398.5\", \"Linhas afetadas\"] += 1      \n",
    "    # 7398.6 -> Verifica se o campo QUAID corresponde \n",
    "    # ao quadro 382.\n",
    "    if QUAID != \"382\":\n",
    "        df_criticas.loc[\"7398.6\", \"Linhas afetadas\"] += 1        \n",
    "    # 7398.7 -> Verifica se o código do tipo de movimento é\n",
    "    # valido (conforme tabela ‘Tipos Movimentos’ do FIPSUSEP).\n",
    "    if TPMOID not in [\"0007\",\"0008\",\"0009\",\"0010\"]:\n",
    "        df_criticas.loc[\"7398.7\", \"Linhas afetadas\"] += 1        \n",
    "    # 7398.8 -> Verifica se o campo CMPID corresponde a um \n",
    "    # tipo de operação válida \n",
    "    # (conforme tabela ‘Bib_DefCamposEstatisticos’ do FIPSUSEP).\n",
    "    if CMPID not in CMPID_valid:\n",
    "        df_criticas.loc[\"7398.8\", \"Linhas afetadas\"] += 1        \n",
    "    # 7398.9 -> Verifica se o PLNCODIGO pertence à \n",
    "    # tabela ‘Planos’ da entidade.\n",
    "    pass\n",
    "    # 7398.10 -> Verifica se os campos ESCVALORMOVRO, ESCVALORMOVRD, \n",
    "    # ESCIMPSEG, ESCVALORCARO, ESCVALORCARD, ESCVALORCIRO e \n",
    "    # ESCVALORCIRD são float.\n",
    "    try:\n",
    "        float(ESCVALORMOVRO)\n",
    "        float(ESCVALORMOVRD)\n",
    "        float(ESCIMPSEG)\n",
    "        float(ESCVALORCARO)\n",
    "        float(ESCVALORCARD)\n",
    "        float(ESCVALORCIRO)\n",
    "        float(ESCVALORCIRD)\n",
    "    except:\n",
    "        df_criticas.loc[\"7398.10\", \"Linhas afetadas\"] += 1\n",
    "    # 7398.13 -> Valida a correspondência \n",
    "    # entre os campos TPMOID e CMPID.\n",
    "    try:\n",
    "        tests = [\n",
    "            TPMOID in [\"0007\", \"0008\"] and CMPID in [\"1065\", \"1066\", \"1067\", \"1068\"],\n",
    "            TPMOID == \"0009\" and CMPID in [\"1069\", \"1070\", \"1071\", \"1072\"],\n",
    "            TPMOID == \"0010\" and CMPID in [\"1073\", \"1074\", \"1075\", \"1076\"]\n",
    "        ]\n",
    "        if not any(tests):\n",
    "            df_criticas.loc[\"7398.13\", \"Linhas afetadas\"] += 1                    \n",
    "    except:\n",
    "        df_criticas.loc[\"7398.13\", \"Linhas afetadas\"] += 1       \n",
    "        \n",
    "    lines += 1"
   ]
  },
  {
   "cell_type": "code",
   "execution_count": 5,
   "metadata": {
    "ExecuteTime": {
     "end_time": "2019-11-05T17:21:09.544162Z",
     "start_time": "2019-11-05T17:21:09.509182Z"
    },
    "scrolled": true
   },
   "outputs": [
    {
     "data": {
      "text/html": [
       "<div>\n",
       "<style scoped>\n",
       "    .dataframe tbody tr th:only-of-type {\n",
       "        vertical-align: middle;\n",
       "    }\n",
       "\n",
       "    .dataframe tbody tr th {\n",
       "        vertical-align: top;\n",
       "    }\n",
       "\n",
       "    .dataframe thead th {\n",
       "        text-align: right;\n",
       "    }\n",
       "</style>\n",
       "<table border=\"1\" class=\"dataframe\">\n",
       "  <thead>\n",
       "    <tr style=\"text-align: right;\">\n",
       "      <th></th>\n",
       "      <th>Linhas afetadas</th>\n",
       "      <th>Linhas Analizadas</th>\n",
       "    </tr>\n",
       "  </thead>\n",
       "  <tbody>\n",
       "    <tr>\n",
       "      <th>7398.1</th>\n",
       "      <td>0</td>\n",
       "      <td>8112</td>\n",
       "    </tr>\n",
       "    <tr>\n",
       "      <th>7398.2</th>\n",
       "      <td>0</td>\n",
       "      <td>8112</td>\n",
       "    </tr>\n",
       "    <tr>\n",
       "      <th>7398.3</th>\n",
       "      <td>0</td>\n",
       "      <td>8112</td>\n",
       "    </tr>\n",
       "    <tr>\n",
       "      <th>7398.4</th>\n",
       "      <td>0</td>\n",
       "      <td>8112</td>\n",
       "    </tr>\n",
       "    <tr>\n",
       "      <th>7398.5</th>\n",
       "      <td>0</td>\n",
       "      <td>8112</td>\n",
       "    </tr>\n",
       "    <tr>\n",
       "      <th>7398.6</th>\n",
       "      <td>0</td>\n",
       "      <td>8112</td>\n",
       "    </tr>\n",
       "    <tr>\n",
       "      <th>7398.7</th>\n",
       "      <td>0</td>\n",
       "      <td>8112</td>\n",
       "    </tr>\n",
       "    <tr>\n",
       "      <th>7398.8</th>\n",
       "      <td>0</td>\n",
       "      <td>8112</td>\n",
       "    </tr>\n",
       "    <tr>\n",
       "      <th>7398.9</th>\n",
       "      <td>0</td>\n",
       "      <td>8112</td>\n",
       "    </tr>\n",
       "    <tr>\n",
       "      <th>7398.10</th>\n",
       "      <td>0</td>\n",
       "      <td>8112</td>\n",
       "    </tr>\n",
       "    <tr>\n",
       "      <th>7398.13</th>\n",
       "      <td>0</td>\n",
       "      <td>8112</td>\n",
       "    </tr>\n",
       "  </tbody>\n",
       "</table>\n",
       "</div>"
      ],
      "text/plain": [
       "         Linhas afetadas  Linhas Analizadas\n",
       "7398.1                 0               8112\n",
       "7398.2                 0               8112\n",
       "7398.3                 0               8112\n",
       "7398.4                 0               8112\n",
       "7398.5                 0               8112\n",
       "7398.6                 0               8112\n",
       "7398.7                 0               8112\n",
       "7398.8                 0               8112\n",
       "7398.9                 0               8112\n",
       "7398.10                0               8112\n",
       "7398.13                0               8112"
      ]
     },
     "execution_count": 5,
     "metadata": {},
     "output_type": "execute_result"
    }
   ],
   "source": [
    "df_criticas[\"Linhas Analizadas\"] = lines\n",
    "df_criticas"
   ]
  },
  {
   "cell_type": "code",
   "execution_count": 5,
   "metadata": {
    "ExecuteTime": {
     "end_time": "2019-11-06T17:38:32.839434Z",
     "start_time": "2019-11-06T17:38:26.920912Z"
    }
   },
   "outputs": [
    {
     "name": "stderr",
     "output_type": "stream",
     "text": [
      "18545it [00:05, 3158.99it/s]\n"
     ]
    }
   ],
   "source": [
    "def export_382():\n",
    "    with open(\"export_382.csv\", \"a+\") as csv:\n",
    "        header = [\n",
    "            \"ESCSEQ\",\n",
    "            \"ENTCODIGO\",\n",
    "            \"MRFMESANO\",\n",
    "            \"QUAID\",\n",
    "            \"TPMOID\",\n",
    "            \"CMPID\",\n",
    "            \"PLNCODIGO\",\n",
    "            \"ESCDATAINICIORO\",\n",
    "            \"ESCDATAFIMRO\",\n",
    "            \"ESCDATAEMISSRO\",\n",
    "            \"ESCVALORMOVRO\",\n",
    "            \"ESCDATAINICIORD\",\n",
    "            \"ESCDATAFIMRD\",\n",
    "            \"ESCDATAEMISSRD\",\n",
    "            \"ESCVALORMOVRD\",\n",
    "            \"ESCIMPSEG\",\n",
    "            \"ESCCODCESS\",\n",
    "            \"ESCFREQ\",\n",
    "            \"ESCVALORCARO\",\n",
    "            \"ESCVALORCARD\",\n",
    "            \"ESCVALORCIRO\",\n",
    "            \"ESCVALORCIRD\",\n",
    "        ]\n",
    "        csv.write(\";\".join(header)+\"\\n\")\n",
    "        for n, line in tqdm(get_lines()):\n",
    "            campos = [\n",
    "                line[0:7],\n",
    "                line[7:12],\n",
    "                line[12:20],\n",
    "                line[20:23],\n",
    "                line[23:27],\n",
    "                line[27:31],\n",
    "                line[31:37],\n",
    "                line[37:45],\n",
    "                line[45:53],\n",
    "                line[53:61],\n",
    "                line[61:74],\n",
    "                line[74:82],\n",
    "                line[82:90],\n",
    "                line[90:98],\n",
    "                line[98:111],\n",
    "                line[111:127],\n",
    "                line[127:132],\n",
    "                line[132:136],\n",
    "                line[136:149],\n",
    "                line[149:162],\n",
    "                line[162:175],\n",
    "                line[175:188],\n",
    "            ]\n",
    "            csv.write(\";\".join(campos)+\"\\n\")\n",
    "        \n",
    "export_382()"
   ]
  }
 ],
 "metadata": {
  "kernelspec": {
   "display_name": "Python 3",
   "language": "python",
   "name": "python3"
  },
  "language_info": {
   "codemirror_mode": {
    "name": "ipython",
    "version": 3
   },
   "file_extension": ".py",
   "mimetype": "text/x-python",
   "name": "python",
   "nbconvert_exporter": "python",
   "pygments_lexer": "ipython3",
   "version": "3.7.5"
  }
 },
 "nbformat": 4,
 "nbformat_minor": 2
}
