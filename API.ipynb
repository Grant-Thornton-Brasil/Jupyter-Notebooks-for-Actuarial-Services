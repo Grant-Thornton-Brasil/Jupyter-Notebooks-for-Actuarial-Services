{
 "cells": [
  {
   "cell_type": "code",
   "execution_count": 1,
   "metadata": {
    "ExecuteTime": {
     "end_time": "2020-02-17T14:05:39.947708Z",
     "start_time": "2020-02-17T14:05:39.718322Z"
    },
    "colab": {},
    "colab_type": "code",
    "id": "guaA_PPoTkwf"
   },
   "outputs": [],
   "source": [
    "import requests\n",
    "from base64 import b64decode"
   ]
  },
  {
   "cell_type": "code",
   "execution_count": 34,
   "metadata": {
    "ExecuteTime": {
     "end_time": "2020-02-17T14:20:54.825016Z",
     "start_time": "2020-02-17T14:20:54.600612Z"
    },
    "code_folding": [
     0
    ],
    "colab": {
     "base_uri": "https://localhost:8080/",
     "height": 34
    },
    "colab_type": "code",
    "id": "zR11uKkiSPZb",
    "outputId": "d1304359-9a28-48f0-dd7a-ecaa520845b2"
   },
   "outputs": [
    {
     "name": "stdout",
     "output_type": "stream",
     "text": [
      "Salvo\n"
     ]
    }
   ],
   "source": [
    "# FUNCIONA\n",
    "headers = {\n",
    "    'Accept': 'application/octet-stream',\n",
    "    'x-api-key': 'OYosmczgN56Knc9AeZTlU1Faz10TNHrY38wU36kN',\n",
    "}\n",
    "\n",
    "params = (\n",
    "    ('debtor_id', '78439361653'), # CPF ou CNPJ do devedor\n",
    "    ('nr_ccb', '9933954'), # Número da CCB.\n",
    "    ('debtor_type', '0'), # Indicação do tipo de documento do devedor que será informado. 0 -CPF; 1 -CNPJ.\n",
    "    ('outputType', 'pdf'), # Document\n",
    "    ('wallet_id', '33254370'), #Descrição: Raiz do CNPJ do Fundo. Tipo: Numérico com tamanho de 8 caracteres.\n",
    "\n",
    ")\n",
    "\n",
    "response = requests.get('https://lastro.idtrust.com.br/v1/lastro', headers=headers, params=params)\n",
    "\n",
    "if response.status_code == 200:\n",
    "    with open(\"x.pdf\",\"wb\") as pdf:\n",
    "        pdf.write(b64decode(response.content))\n",
    "        print(\"Salvo\")"
   ]
  },
  {
   "cell_type": "code",
   "execution_count": 45,
   "metadata": {
    "ExecuteTime": {
     "end_time": "2020-02-17T14:22:56.524619Z",
     "start_time": "2020-02-17T14:22:56.426881Z"
    }
   },
   "outputs": [
    {
     "name": "stdout",
     "output_type": "stream",
     "text": [
      "<Response [400]>\n",
      "Campos obrigatórios não foram preenchidos\n"
     ]
    }
   ],
   "source": [
    "# DEV\n",
    "headers = {\n",
    "    'Accept': 'application/octet-stream',\n",
    "    'x-api-key': 'OYosmczgN56Knc9AeZTlU1Faz10TNHrY38wU36kN',\n",
    "}\n",
    "\n",
    "params = (\n",
    "    ('debtor_id', '70412468417'), # CPF ou CNPJ do devedor\n",
    "    ('nr_ccb', '4768440'), # Número da CCB.\n",
    "    ('debtor_type', '0'), # Indicação do tipo de documento do devedor que será informado. 0 -CPF; 1 -CNPJ.\n",
    "    ('outputType', 'pdf'), # Document\n",
    "    ('wallet_id', '76794000'), #Descrição: Raiz do CNPJ do Fundo. Tipo: Numérico com tamanho de 8 caracteres.\n",
    "\n",
    ")\n",
    "\n",
    "response = requests.get('https://lastro.idtrust.com.br/v1/lastro', headers=headers, params=params)\n",
    "\n",
    "if response.status_code == 200:\n",
    "    with open(\"x.pdf\",\"wb\") as pdf:\n",
    "        pdf.write(b64decode(response.content))\n",
    "        print(\"Salvo\")\n",
    "else:\n",
    "    print(response)\n",
    "    print(response.text)"
   ]
  }
 ],
 "metadata": {
  "colab": {
   "name": "API.ipynb",
   "provenance": [],
   "toc_visible": true
  },
  "kernelspec": {
   "display_name": "Python 3",
   "language": "python",
   "name": "python3"
  },
  "language_info": {
   "codemirror_mode": {
    "name": "ipython",
    "version": 3
   },
   "file_extension": ".py",
   "mimetype": "text/x-python",
   "name": "python",
   "nbconvert_exporter": "python",
   "pygments_lexer": "ipython3",
   "version": "3.8.0"
  }
 },
 "nbformat": 4,
 "nbformat_minor": 1
}
