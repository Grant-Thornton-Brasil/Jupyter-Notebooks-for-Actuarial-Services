{
 "cells": [
  {
   "cell_type": "code",
   "execution_count": 1,
   "metadata": {
    "ExecuteTime": {
     "end_time": "2019-11-04T19:09:27.205266Z",
     "start_time": "2019-11-04T19:09:26.105893Z"
    }
   },
   "outputs": [],
   "source": [
    "from pandas import DataFrame as DF\n",
    "from tkinter import filedialog\n",
    "from tkinter import Tk\n",
    "from ciso8601 import parse_datetime as to_date\n",
    "from time import time"
   ]
  },
  {
   "cell_type": "code",
   "execution_count": 2,
   "metadata": {
    "ExecuteTime": {
     "end_time": "2019-11-04T19:09:27.219259Z",
     "start_time": "2019-11-04T19:09:27.208266Z"
    },
    "code_folding": [
     0
    ]
   },
   "outputs": [],
   "source": [
    "def get_lines():\n",
    "    lines = []\n",
    "    root = Tk()\n",
    "    root.attributes(\"-topmost\", True)\n",
    "    root.withdraw()\n",
    "    for file in filedialog.askopenfilenames():\n",
    "        with open(file) as txt:\n",
    "            for line in txt.readlines():\n",
    "                yield line"
   ]
  },
  {
   "cell_type": "code",
   "execution_count": 10,
   "metadata": {
    "ExecuteTime": {
     "end_time": "2019-11-04T19:54:33.890680Z",
     "start_time": "2019-11-04T19:54:33.876688Z"
    },
    "code_folding": []
   },
   "outputs": [],
   "source": [
    "def export_to_csv():\n",
    "    headers = [\n",
    "        \"ESCSEQ\",\n",
    "        \"ENTCODIGO\",\n",
    "        \"MRFMESANO\",\n",
    "        \"QUAID\",\n",
    "        \"TPMOID\",\n",
    "        \"CMPID\",\n",
    "        \"PLNCODIGO\",\n",
    "        \"ESCDATAINICIORO\",\n",
    "        \"ESCDATAFIMRO\",\n",
    "        \"ESCDATAEMISSRO\",\n",
    "        \"ESCVALORMOVRO\",\n",
    "        \"ESCDATAINICIORD\",\n",
    "        \"ESCDATAFIMRD\",\n",
    "        \"ESCDATAEMISSRD\",\n",
    "        \"ESCVALORMOVRD\",\n",
    "        \"ESCIMPSEG\",\n",
    "        \"ESCCODCESS\",\n",
    "        \"ESCFREQ\",\n",
    "        \"ESCVALORCARO\",\n",
    "        \"ESCVALORCARD\",\n",
    "        \"ESCVALORCIRO\",\n",
    "        \"ESCVALORCIRD\",\n",
    "    ]\n",
    "\n",
    "    with open(\"382 planilha.csv\", \"a+\") as csv:\n",
    "        csv.write(\";\".join(headers)+\"\\n\")\n",
    "        for line in get_lines():\n",
    "            try:\n",
    "                line = line.strip()\n",
    "                campos = [\n",
    "                    line[0:7],\n",
    "                    line[7:12],\n",
    "                    to_date(line[12:20]).strftime(\"%d/%m/%Y\"),\n",
    "                    line[20:23],\n",
    "                    line[23:27],\n",
    "                    line[27:31],\n",
    "                    line[31:37],\n",
    "                    to_date(line[37:45]).strftime(\"%d/%m/%Y\"),\n",
    "                    to_date(line[45:53]).strftime(\"%d/%m/%Y\"),\n",
    "                    to_date(line[53:61]).strftime(\"%d/%m/%Y\"),\n",
    "                    line[61:74],\n",
    "                    to_date(line[74:82]).strftime(\"%d/%m/%Y\"),\n",
    "                    to_date(line[82:90]).strftime(\"%d/%m/%Y\"),\n",
    "                    to_date(line[90:98]).strftime(\"%d/%m/%Y\"),\n",
    "                    line[98:111],\n",
    "                    line[111:127],\n",
    "                    line[127:132],\n",
    "                    line[132:136],\n",
    "                    line[136:149],\n",
    "                    line[149:162],\n",
    "                    line[162:175],\n",
    "                    line[175:188],\n",
    "                ]\n",
    "                csv.write(\";\".join(campos)+\"\\n\")        \n",
    "            except:\n",
    "                pass"
   ]
  },
  {
   "cell_type": "code",
   "execution_count": 4,
   "metadata": {
    "ExecuteTime": {
     "end_time": "2019-11-04T19:09:27.540416Z",
     "start_time": "2019-11-04T19:09:27.364344Z"
    }
   },
   "outputs": [
    {
     "data": {
      "text/html": [
       "<div>\n",
       "<style scoped>\n",
       "    .dataframe tbody tr th:only-of-type {\n",
       "        vertical-align: middle;\n",
       "    }\n",
       "\n",
       "    .dataframe tbody tr th {\n",
       "        vertical-align: top;\n",
       "    }\n",
       "\n",
       "    .dataframe thead th {\n",
       "        text-align: right;\n",
       "    }\n",
       "</style>\n",
       "<table border=\"1\" class=\"dataframe\">\n",
       "  <thead>\n",
       "    <tr style=\"text-align: right;\">\n",
       "      <th></th>\n",
       "      <th>1065</th>\n",
       "      <th>1066</th>\n",
       "      <th>1067</th>\n",
       "      <th>1068</th>\n",
       "      <th>1069</th>\n",
       "      <th>1070</th>\n",
       "      <th>1071</th>\n",
       "      <th>1072</th>\n",
       "      <th>1073</th>\n",
       "      <th>1074</th>\n",
       "      <th>1075</th>\n",
       "      <th>1076</th>\n",
       "    </tr>\n",
       "  </thead>\n",
       "  <tbody>\n",
       "    <tr>\n",
       "      <th>7</th>\n",
       "      <td>0.0</td>\n",
       "      <td>0.0</td>\n",
       "      <td>0.0</td>\n",
       "      <td>0.0</td>\n",
       "      <td>0.0</td>\n",
       "      <td>0.0</td>\n",
       "      <td>0.0</td>\n",
       "      <td>0.0</td>\n",
       "      <td>0.0</td>\n",
       "      <td>0.0</td>\n",
       "      <td>0.0</td>\n",
       "      <td>0.0</td>\n",
       "    </tr>\n",
       "    <tr>\n",
       "      <th>8</th>\n",
       "      <td>0.0</td>\n",
       "      <td>0.0</td>\n",
       "      <td>0.0</td>\n",
       "      <td>0.0</td>\n",
       "      <td>0.0</td>\n",
       "      <td>0.0</td>\n",
       "      <td>0.0</td>\n",
       "      <td>0.0</td>\n",
       "      <td>0.0</td>\n",
       "      <td>0.0</td>\n",
       "      <td>0.0</td>\n",
       "      <td>0.0</td>\n",
       "    </tr>\n",
       "    <tr>\n",
       "      <th>9</th>\n",
       "      <td>0.0</td>\n",
       "      <td>0.0</td>\n",
       "      <td>0.0</td>\n",
       "      <td>0.0</td>\n",
       "      <td>0.0</td>\n",
       "      <td>0.0</td>\n",
       "      <td>0.0</td>\n",
       "      <td>0.0</td>\n",
       "      <td>0.0</td>\n",
       "      <td>0.0</td>\n",
       "      <td>0.0</td>\n",
       "      <td>0.0</td>\n",
       "    </tr>\n",
       "    <tr>\n",
       "      <th>10</th>\n",
       "      <td>0.0</td>\n",
       "      <td>0.0</td>\n",
       "      <td>0.0</td>\n",
       "      <td>0.0</td>\n",
       "      <td>0.0</td>\n",
       "      <td>0.0</td>\n",
       "      <td>0.0</td>\n",
       "      <td>0.0</td>\n",
       "      <td>0.0</td>\n",
       "      <td>0.0</td>\n",
       "      <td>0.0</td>\n",
       "      <td>0.0</td>\n",
       "    </tr>\n",
       "  </tbody>\n",
       "</table>\n",
       "</div>"
      ],
      "text/plain": [
       "    1065  1066  1067  1068  1069  1070  1071  1072  1073  1074  1075  1076\n",
       "7    0.0   0.0   0.0   0.0   0.0   0.0   0.0   0.0   0.0   0.0   0.0   0.0\n",
       "8    0.0   0.0   0.0   0.0   0.0   0.0   0.0   0.0   0.0   0.0   0.0   0.0\n",
       "9    0.0   0.0   0.0   0.0   0.0   0.0   0.0   0.0   0.0   0.0   0.0   0.0\n",
       "10   0.0   0.0   0.0   0.0   0.0   0.0   0.0   0.0   0.0   0.0   0.0   0.0"
      ]
     },
     "execution_count": 4,
     "metadata": {},
     "output_type": "execute_result"
    }
   ],
   "source": [
    "index = [7, 8, 9, 10]\n",
    "columns = [str(i) for i in range(1065,1077)]\n",
    "df_ppng = DF(index=index,columns=columns)\n",
    "df_ppng.fillna(0.0,inplace=True)\n",
    "\n",
    "df_rvne= DF(index=index,columns=columns)\n",
    "df_rvne.fillna(0.0,inplace=True)\n",
    "\n",
    "df_ppng"
   ]
  },
  {
   "cell_type": "code",
   "execution_count": 5,
   "metadata": {
    "ExecuteTime": {
     "end_time": "2019-11-04T19:11:18.695892Z",
     "start_time": "2019-11-04T19:09:27.544412Z"
    }
   },
   "outputs": [
    {
     "name": "stdout",
     "output_type": "stream",
     "text": [
      "Digite a data de cálculo no formato (aaaammdd): 20190830\n"
     ]
    }
   ],
   "source": [
    "data_calc = to_date(input(\"Digite a data de cálculo no formato (aaaammdd): \"))\n",
    "\n",
    "for line in get_lines():\n",
    "    try:\n",
    "        line = line.strip()\n",
    "        ESCSEQ = line[0:7]\n",
    "        ENTCODIGO = line[7:12]\n",
    "        MRFMESANO = to_date(line[12:20])\n",
    "        QUAID = line[20:23]\n",
    "        TPMOID = int(line[23:27])\n",
    "        CMPID = line[27:31]\n",
    "        PLNCODIGO = line[31:37]\n",
    "        ESCDATAINICIORO = to_date(line[37:45])\n",
    "        ESCDATAFIMRO = to_date(line[45:53])\n",
    "        ESCDATAEMISSRO = to_date(line[53:61])\n",
    "        ESCVALORMOVRO = line[61:74]\n",
    "        ESCDATAINICIORD = to_date(line[74:82])\n",
    "        ESCDATAFIMRD = to_date(line[82:90])\n",
    "        ESCDATAEMISSRD = to_date(line[90:98])\n",
    "        ESCVALORMOVRD = float(line[98:111].replace(\",\",\".\"))\n",
    "        ESCIMPSEG = line[111:127]\n",
    "        ESCCODCESS = line[127:132]\n",
    "        ESCFREQ = line[132:136]\n",
    "        ESCVALORCARO = line[136:149]\n",
    "        ESCVALORCARD = line[149:162]\n",
    "        ESCVALORCIRO = line[162:175]\n",
    "        ESCVALORCIRD = line[175:188]\n",
    "\n",
    "        valor = 0\n",
    "\n",
    "        if ESCDATAEMISSRD <= data_calc < ESCDATAINICIORD:\n",
    "                valor = ESCVALORMOVRD\n",
    "        elif ESCDATAINICIORD <= data_calc < ESCDATAFIMRD:\n",
    "                valor = ESCVALORMOVRD*((ESCDATAFIMRD-data_calc).days/((ESCDATAFIMRD-ESCDATAINICIORD).days+1))\n",
    "\n",
    "        df_ppng.loc[TPMOID,CMPID] += valor\n",
    "\n",
    "        if data_calc < ESCDATAEMISSRD:\n",
    "            df_rvne.loc[TPMOID,CMPID] += valor    \n",
    "    except:\n",
    "        pass"
   ]
  },
  {
   "cell_type": "code",
   "execution_count": 6,
   "metadata": {
    "ExecuteTime": {
     "end_time": "2019-11-04T19:11:18.719860Z",
     "start_time": "2019-11-04T19:11:18.698872Z"
    }
   },
   "outputs": [
    {
     "data": {
      "text/plain": [
       "7490407.960312499"
      ]
     },
     "execution_count": 6,
     "metadata": {},
     "output_type": "execute_result"
    }
   ],
   "source": [
    "ppng = df_ppng.loc[7,\"1065\"] + df_ppng.loc[7,\"1066\"] - df_ppng.loc[7,\"1067\"]\n",
    "ppng += df_ppng.loc[8,\"1065\"] + df_ppng.loc[8,\"1066\"] - df_ppng.loc[8,\"1067\"]\n",
    "ppng += -df_ppng.loc[9,\"1065\"] - df_ppng.loc[9,\"1066\"] + df_ppng.loc[9,\"1067\"]\n",
    "ppng += -df_ppng.loc[10,\"1065\"] - df_ppng.loc[10,\"1066\"] + df_ppng.loc[10,\"1067\"]\n",
    "ppng"
   ]
  },
  {
   "cell_type": "code",
   "execution_count": 8,
   "metadata": {
    "ExecuteTime": {
     "end_time": "2019-11-04T19:53:45.003323Z",
     "start_time": "2019-11-04T19:53:44.974336Z"
    }
   },
   "outputs": [
    {
     "data": {
      "text/plain": [
       "7480053.791249998"
      ]
     },
     "execution_count": 8,
     "metadata": {},
     "output_type": "execute_result"
    }
   ],
   "source": [
    "ppng_rvne = df_rvne.loc[7,\"1065\"] + df_rvne.loc[7,\"1066\"] - df_rvne.loc[7,\"1067\"]\n",
    "ppng_rvne += df_rvne.loc[8,\"1065\"] + df_rvne.loc[8,\"1066\"] - df_rvne.loc[8,\"1067\"]\n",
    "ppng_rvne += -df_rvne.loc[9,\"1065\"] - df_rvne.loc[9,\"1066\"] + df_rvne.loc[9,\"1067\"]\n",
    "ppng_rvne += -df_rvne.loc[10,\"1065\"] - df_rvne.loc[10,\"1066\"] + df_rvne.loc[10,\"1067\"]\n",
    "ppng_rvne"
   ]
  },
  {
   "cell_type": "code",
   "execution_count": 12,
   "metadata": {
    "ExecuteTime": {
     "end_time": "2019-11-04T19:54:54.843795Z",
     "start_time": "2019-11-04T19:54:50.366261Z"
    }
   },
   "outputs": [],
   "source": [
    "export_to_csv()"
   ]
  }
 ],
 "metadata": {
  "kernelspec": {
   "display_name": "Python 3",
   "language": "python",
   "name": "python3"
  },
  "language_info": {
   "codemirror_mode": {
    "name": "ipython",
    "version": 3
   },
   "file_extension": ".py",
   "mimetype": "text/x-python",
   "name": "python",
   "nbconvert_exporter": "python",
   "pygments_lexer": "ipython3",
   "version": "3.7.5"
  }
 },
 "nbformat": 4,
 "nbformat_minor": 2
}
