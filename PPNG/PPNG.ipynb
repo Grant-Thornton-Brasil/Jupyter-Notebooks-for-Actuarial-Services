{
 "cells": [
  {
   "cell_type": "code",
   "execution_count": null,
   "metadata": {
    "ExecuteTime": {
     "end_time": "2019-10-29T20:34:01.326232Z",
     "start_time": "2019-10-29T20:33:59.792082Z"
    }
   },
   "outputs": [],
   "source": [
    "import pandas as pd\n",
    "from tkinter import filedialog\n",
    "from tkinter import Tk\n",
    "from ciso8601 import parse_datetime as to_date\n",
    "import requests\n",
    "from bs4 import BeautifulSoup\n",
    "from time import time, sleep\n",
    "from openpyxl import Workbook\n",
    "import os"
   ]
  },
  {
   "cell_type": "code",
   "execution_count": null,
   "metadata": {
    "ExecuteTime": {
     "end_time": "2019-10-29T20:34:01.337743Z",
     "start_time": "2019-10-29T20:34:01.328747Z"
    },
    "code_folding": [
     0
    ]
   },
   "outputs": [],
   "source": [
    "def get_lines():\n",
    "    lines = []\n",
    "    root = Tk()\n",
    "    root.attributes(\"-topmost\", True)\n",
    "    root.withdraw()\n",
    "    for file in filedialog.askopenfilenames():\n",
    "        with open(file) as txt:\n",
    "            for line in txt.readlines():\n",
    "                yield line"
   ]
  },
  {
   "cell_type": "code",
   "execution_count": null,
   "metadata": {
    "ExecuteTime": {
     "end_time": "2019-10-29T20:34:01.466714Z",
     "start_time": "2019-10-29T20:34:01.344738Z"
    },
    "code_folding": [
     0
    ]
   },
   "outputs": [],
   "source": [
    "def get_ramos(entcodigo, ano):\n",
    "    ramos = []\n",
    "    try:\n",
    "        request = requests.get(\n",
    "            \"https://www2.susep.gov.br/menuestatistica/SES/premiosesinistros.aspx?id=54\")\n",
    "        sopa = BeautifulSoup(request.text, \"html.parser\")\n",
    "\n",
    "        params = (('id', '54'))\n",
    "        data = {\n",
    "            '__VIEWSTATE': sopa.find(\"input\", {\"name\": \"__VIEWSTATE\"})[\"value\"],\n",
    "            '__VIEWSTATEGENERATOR': sopa.find(\"input\", {\"name\": \"__VIEWSTATEGENERATOR\"})[\"value\"],\n",
    "            '__EVENTVALIDATION': sopa.find(\"input\", {\"name\": \"__EVENTVALIDATION\"})[\"value\"],\n",
    "            'ctl00$ContentPlaceHolder1$edEmpresas': entcodigo.ljust(10, \" \"),\n",
    "            'ctl00$ContentPlaceHolder1$edInicioPer': str(ano)+\"01\",\n",
    "            'ctl00$ContentPlaceHolder1$edFimPer': str(ano)+\"12\",\n",
    "            'ctl00$ContentPlaceHolder1$optAgrupamento': 'RAM',\n",
    "            'ctl00$ContentPlaceHolder1$btnProcessao': 'Processar'}\n",
    "\n",
    "        request = requests.post(\n",
    "            'https://www2.susep.gov.br/menuestatistica/SES/premiosesinistros.aspx', params=params, data=data)\n",
    "        sopa = BeautifulSoup(request.text, \"html.parser\")\n",
    "        elements = sopa.find_all(\"td\", {\"align\": \"left\"})\n",
    "        for element in elements[3:]:\n",
    "            ramos.append(element.text[:4])\n",
    "        return ramos\n",
    "    except:\n",
    "        return False"
   ]
  },
  {
   "cell_type": "code",
   "execution_count": null,
   "metadata": {
    "ExecuteTime": {
     "end_time": "2019-10-29T20:34:23.387955Z",
     "start_time": "2019-10-29T20:34:01.469671Z"
    },
    "code_folding": [
     0
    ]
   },
   "outputs": [],
   "source": [
    "columns = [\"1026\", \"1027\", \"1028\", \"1029\", \"1030\",\n",
    "          \"1031\", \"1032\", \"1033\", \"1034\", \"1035\", \"1036\", \"1037\"]\n",
    "os.system(\"cls\")\n",
    "entcodigo = input(\"Digite um ENTCODIGO: \\n\")\n",
    "ano = input(\"\\nDigite um ano (Formato aaaa): \\n\")\n",
    "\n",
    "ramos = get_ramos(entcodigo, ano)\n",
    "len_ramos = len(ramos)\n",
    "index = [[7]*len_ramos+[8]*len_ramos+[9]*len_ramos+[10]*len_ramos,ramos*4]\n",
    "\n",
    "df_ppng = pd.DataFrame(index=index,columns=columns)\n",
    "df_ppng.fillna(0.0,inplace = True)\n",
    "\n",
    "df_rvne = pd.DataFrame(index=index,columns=columns)\n",
    "df_rvne.fillna(0.0,inplace = True)"
   ]
  },
  {
   "cell_type": "code",
   "execution_count": null,
   "metadata": {
    "ExecuteTime": {
     "end_time": "2019-10-29T20:34:23.410948Z",
     "start_time": "2019-10-29T20:34:23.390955Z"
    },
    "code_folding": [
     0
    ]
   },
   "outputs": [],
   "source": [
    "def run():\n",
    "    total = 0\n",
    "    print(\"\\nSelecione os arquivos: \\n\")\n",
    "    for line in get_lines():\n",
    "        tpmoid = int(line[23:27])                          # TPMOID          #\n",
    "        cmpid = line[27:31]                                # CMPID           #\n",
    "        ramo = line[31:35]                                 # RAMCODIGO       #\n",
    "        inicio_ro = to_date(line[35:43])                   # ESPDATAINICIORO #\n",
    "        fim_ro = to_date(line[43:51])                      # ESPDATAFIMRO    #\n",
    "        emiss_ro = to_date(line[51:59])                    # ESPDATAEMISSRO  #\n",
    "        inicio_rd = to_date(line[72:80])                   # ESPDATAINICIORD #\n",
    "        fim_rd = to_date(line[80:88])                      # ESPDATAFIMRD    #\n",
    "        emiss_rd = to_date(line[88:96])                    # ESPDATAEMISSRD  #\n",
    "        valor_ro = float(line[59:72].replace(\",\", \".\"))    # ESPVALORMOVRO   #\n",
    "        valor_rd = float(line[96:109].replace(\",\", \".\"))   # ESPVALORMOVRD   #\n",
    "\n",
    "        valor = 0\n",
    "\n",
    "        if emiss_rd <= data_calc < inicio_rd:\n",
    "            valor = valor_rd \n",
    "        elif inicio_rd <= data_calc < fim_rd:\n",
    "            valor = valor_rd*((fim_rd-data_calc).days/((fim_rd-inicio_rd).days+1))\n",
    "            \n",
    "        df_ppng.loc[(tpmoid, ramo),cmpid] += valor \n",
    "        \n",
    "        if data_calc < emiss_rd:\n",
    "            df_rvne.loc[(tpmoid, ramo),cmpid] += valor\n",
    "            \n",
    "        total += 1\n",
    "    return total"
   ]
  },
  {
   "cell_type": "code",
   "execution_count": null,
   "metadata": {
    "ExecuteTime": {
     "end_time": "2019-10-29T20:34:49.564869Z",
     "start_time": "2019-10-29T20:34:23.414939Z"
    }
   },
   "outputs": [],
   "source": [
    "data_calc = to_date(input(\"\\nDigite a data de cálculo: (Formato aaaammdd) \\n\"))\n",
    "start = time()\n",
    "linhas = run()\n",
    "end = time()\n",
    "os.system(\"cls\")\n",
    "sleep(2)\n",
    "print(f\"\\nVelocidade: {round(end-start,2)}s\\nMédia: {round(linhas/(end-start),2)} linha/s\\n\")"
   ]
  },
  {
   "cell_type": "code",
   "execution_count": null,
   "metadata": {
    "ExecuteTime": {
     "end_time": "2019-10-29T20:34:49.587824Z",
     "start_time": "2019-10-29T20:34:49.573833Z"
    }
   },
   "outputs": [],
   "source": [
    "df_rve = df_ppng - df_rvne"
   ]
  },
  {
   "cell_type": "code",
   "execution_count": null,
   "metadata": {
    "ExecuteTime": {
     "end_time": "2019-10-29T20:34:51.939339Z",
     "start_time": "2019-10-29T20:34:49.591823Z"
    }
   },
   "outputs": [],
   "source": [
    "print(\"Exportando para Excel...\\n\\n\")\n",
    "with pd.ExcelWriter('Provisões.xlsx') as writer:  # doctest: +SKIP\n",
    "    df_ppng.to_excel(writer, sheet_name='PPNG')\n",
    "    df_rvne.to_excel(writer, sheet_name='RVNE')\n",
    "    df_rve.to_excel(writer, sheet_name='RVE')\n",
    "print(\"Sucesso!\")\n",
    "sleep(2)\n",
    "quit()"
   ]
  },
  {
   "cell_type": "code",
   "execution_count": null,
   "metadata": {
    "ExecuteTime": {
     "end_time": "2019-10-29T20:34:51.954326Z",
     "start_time": "2019-10-29T20:34:51.943337Z"
    }
   },
   "outputs": [],
   "source": [
    "df_ppng[\"PPNG\"] = df_ppng[\"1026\"] + df_ppng[\"1027\"] - df_ppng[\"1027\"]\n",
    "df_ppng[\"PPNG\"] -= (df_ppng[\"1030\"] + df_ppng[\"1031\"] - df_ppng[\"1032\"])\n",
    "df_ppng[\"PPNG\"] -= (df_ppng[\"1034\"] + df_ppng[\"1035\"] - df_ppng[\"1036\"])"
   ]
  }
 ],
 "metadata": {
  "kernelspec": {
   "display_name": "Python 3",
   "language": "python",
   "name": "python3"
  },
  "language_info": {
   "codemirror_mode": {
    "name": "ipython",
    "version": 3
   },
   "file_extension": ".py",
   "mimetype": "text/x-python",
   "name": "python",
   "nbconvert_exporter": "python",
   "pygments_lexer": "ipython3",
   "version": "3.7.5"
  }
 },
 "nbformat": 4,
 "nbformat_minor": 2
}
